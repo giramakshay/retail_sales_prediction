{
  "nbformat": 4,
  "nbformat_minor": 0,
  "metadata": {
    "colab": {
      "provenance": [],
      "authorship_tag": "ABX9TyN5HCm6bjcYL+2te2Pk6XFq",
      "include_colab_link": true
    },
    "kernelspec": {
      "name": "python3",
      "display_name": "Python 3"
    },
    "language_info": {
      "name": "python"
    }
  },
  "cells": [
    {
      "cell_type": "markdown",
      "metadata": {
        "id": "view-in-github",
        "colab_type": "text"
      },
      "source": [
        "<a href=\"https://colab.research.google.com/github/giramakshay/retail_sales_prediction/blob/main/ML_Capstone_Regression_Retail_Sales_Prediction.ipynb\" target=\"_parent\"><img src=\"https://colab.research.google.com/assets/colab-badge.svg\" alt=\"Open In Colab\"/></a>"
      ]
    },
    {
      "cell_type": "markdown",
      "source": [
        "# Project Name: Retail Sales Prediction\n",
        "\n",
        "##### **Project Type**    - Regression\n",
        "##### **Contribution**    - Individual\n",
        "##### **Contributor**     - Akshay Giram"
      ],
      "metadata": {
        "id": "iYSffhy59TgE"
      }
    },
    {
      "cell_type": "markdown",
      "source": [
        "# **Project Summary**\n",
        "\n"
      ],
      "metadata": {
        "id": "fsr3t8MS-KCm"
      }
    },
    {
      "cell_type": "markdown",
      "source": [
        "In this project we will develop a machine learning model to pridict sales for the Rossmann drug stores. Managers are required to have predictions of daily sales for upto six weeks in advance. This model will take into consideration various factors that affect sales, like promotions, competition, school and state holidays, seasonality, and locality.\n",
        "\n",
        "The dataset contains 1 million entries for sales data across 1115 stores.\n",
        "\n",
        "We will use linear regression to create a machine learning model for prediction of sales."
      ],
      "metadata": {
        "id": "9p-ZFYnz-UMT"
      }
    },
    {
      "cell_type": "markdown",
      "source": [
        "# **Problem Statement**"
      ],
      "metadata": {
        "id": "fHVGRDTLEbjl"
      }
    },
    {
      "cell_type": "markdown",
      "source": [
        "***To generate day wise sales predictions for upcoming six weeks from the sales data from across 1100 Rossmann drug stores.***\n",
        "\n",
        "The prediction model will use linear regression as the machine learning algorithm.\n",
        "\n",
        "### **Overview of project structure:** ###\n",
        "* EDA:  Understanding the data, features, and their relations\n",
        "* Data clean up: Handling missing values and outliers\n",
        "* Feature Engineering: Feature encoding and feature selection\n",
        "* Preprocessing: scaling/standardization, data wrangling\n",
        "* Model Implementation: model selection, hyperparameter tuning, regularization\n",
        "* Model explainability: model performance, feature importance, conclusion"
      ],
      "metadata": {
        "id": "HXzkR_DwEoo3"
      }
    },
    {
      "cell_type": "code",
      "source": [],
      "metadata": {
        "id": "vd81MUShEeeG"
      },
      "execution_count": null,
      "outputs": []
    }
  ]
}