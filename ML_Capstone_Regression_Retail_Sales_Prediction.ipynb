{
  "nbformat": 4,
  "nbformat_minor": 0,
  "metadata": {
    "colab": {
      "provenance": [],
      "authorship_tag": "ABX9TyMIGanRfbDDXELAmP9ltlEL",
      "include_colab_link": true
    },
    "kernelspec": {
      "name": "python3",
      "display_name": "Python 3"
    },
    "language_info": {
      "name": "python"
    }
  },
  "cells": [
    {
      "cell_type": "markdown",
      "metadata": {
        "id": "view-in-github",
        "colab_type": "text"
      },
      "source": [
        "<a href=\"https://colab.research.google.com/github/giramakshay/retail_sales_prediction/blob/main/ML_Capstone_Regression_Retail_Sales_Prediction.ipynb\" target=\"_parent\"><img src=\"https://colab.research.google.com/assets/colab-badge.svg\" alt=\"Open In Colab\"/></a>"
      ]
    },
    {
      "cell_type": "markdown",
      "source": [
        "# Project Name: Retail Sales Prediction\n",
        "\n",
        "##### **Project Type**    - Regression\n",
        "##### **Contribution**    - Individual\n",
        "##### **Contributor**     - Akshay Giram"
      ],
      "metadata": {
        "id": "iYSffhy59TgE"
      }
    },
    {
      "cell_type": "markdown",
      "source": [
        "# **Project Summary**\n",
        "\n"
      ],
      "metadata": {
        "id": "fsr3t8MS-KCm"
      }
    },
    {
      "cell_type": "markdown",
      "source": [
        "In this project we will develop a machine learning model to pridict sales for the Rossmann drug stores. Managers are required to have predictions of daily sales for upto six weeks in advance. This model will take into consideration various factors that affect sales, like promotions, competition, school and state holidays, seasonality, and locality.\n",
        "\n",
        "The dataset contains 1 million entries for sales data across 1115 stores.\n",
        "\n",
        "We will use linear regression to create a machine learning model for prediction of sales."
      ],
      "metadata": {
        "id": "9p-ZFYnz-UMT"
      }
    }
  ]
}